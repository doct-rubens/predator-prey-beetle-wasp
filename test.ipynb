{
 "cells": [
  {
   "cell_type": "markdown",
   "metadata": {
    "toc": "true"
   },
   "source": [
    "# Table of Contents\n",
    " <p><div class=\"lev1 toc-item\"><a href=\"#Initial-Class-Definitions\" data-toc-modified-id=\"Initial-Class-Definitions-1\"><span class=\"toc-item-num\">1&nbsp;&nbsp;</span>Initial Class Definitions</a></div>"
   ]
  },
  {
   "cell_type": "code",
   "execution_count": 2,
   "metadata": {
    "collapsed": true
   },
   "outputs": [],
   "source": [
    "import numpy as np\n",
    "import pandas as pd\n",
    "import os\n",
    "import matplotlib.pyplot as plt\n",
    "from itertools import *\n",
    "import scipy.integrate as integrate\n",
    "from math import factorial"
   ]
  },
  {
   "cell_type": "markdown",
   "metadata": {
    "collapsed": true
   },
   "source": [
    "# Initial Class Definitions"
   ]
  },
  {
   "cell_type": "code",
   "execution_count": 3,
   "metadata": {
    "collapsed": true
   },
   "outputs": [],
   "source": [
    "def make_video(images, outvid=None, fps=5, size=None,\n",
    "               is_color=True, format=\"XVID\"):\n",
    "    \"\"\"\n",
    "    references: http://www.xavierdupre.fr/blog/2016-03-30_nojs.html\n",
    "                http://docs.opencv.org/3.0-beta/doc/py_tutorials/py_gui/py_video_display/py_video_display.html\n",
    "    \n",
    "    Create a video from a list of images.\n",
    " \n",
    "    @param      outvid      output video\n",
    "    @param      images      list of images to use in the video\n",
    "    @param      fps         frame per second\n",
    "    @param      size        size of each frame\n",
    "    @param      is_color    color\n",
    "    @param      format      see http://www.fourcc.org/codecs.php\n",
    "    @return                 see http://opencv-python-tutroals.readthedocs.org/en/latest/py_tutorials/py_gui/py_video_display/py_video_display.html\n",
    " \n",
    "    The function relies on http://opencv-python-tutroals.readthedocs.org/en/latest/.\n",
    "    By default, the video will have the size of the first image.\n",
    "    It will resize every image to this size before adding them to the video.\n",
    "    \"\"\"\n",
    "    from cv2 import VideoWriter, VideoWriter_fourcc, imread, resize\n",
    "    fourcc = VideoWriter_fourcc(*format)\n",
    "    vid = None\n",
    "    for image in images:\n",
    "        if not os.path.exists(image):\n",
    "            raise FileNotFoundError(image)\n",
    "        img = imread(image)\n",
    "        if vid is None:\n",
    "            if size is None:\n",
    "                size = img.shape[1], img.shape[0]\n",
    "            vid = VideoWriter(outvid, fourcc, float(fps), size, is_color)\n",
    "        if size[0] != img.shape[1] and size[1] != img.shape[0]:\n",
    "            img = resize(img, size)\n",
    "        vid.write(img)\n",
    "    \n",
    "    vid.release()\n",
    "    return vid"
   ]
  },
  {
   "cell_type": "code",
   "execution_count": 15,
   "metadata": {
    "collapsed": true
   },
   "outputs": [],
   "source": [
    "# implements the basic features of our creatures.\n",
    "# they are:\n",
    "#    > gender (init=distribution)\n",
    "#    > alive (init=true)\n",
    "#    > age (init=distr or 0)\n",
    "#    > offspring (init=0)\n",
    "#    > fertility (init=distr)\n",
    "class Creature:\n",
    "    universe = None\n",
    "    \n",
    "    def __init__(self, gen, age=0):\n",
    "        self.gender = 'm' if (np.random.uniform() < self.universe.mf_ratio[type(self)]) else 'f'\n",
    "        self.fertility = True if (np.random.uniform() < self.universe.fertility_ratio[type(self)]) else False\n",
    "        self.lifespan = max([1, int(np.round(np.random.normal(loc=self.universe.lifespan_mean[type(self)],\n",
    "                                                              scale=self.universe.lifespan_var[type(self)])))])\n",
    "        self.age = age\n",
    "        self.generation = gen\n",
    "        self.alive = True\n",
    "        self.offspring = 0\n",
    "    \n",
    "    def is_adult(self):\n",
    "        return self.age >= self.universe.adult_age[type(self)]\n",
    "    \n",
    "    def can_procriate(self):\n",
    "        return ((self.gender == 'f') and self.fertility)\n",
    "    \n",
    "    def children(self, gen):\n",
    "        ncs = max([1, int(np.round(np.random.normal(loc=self.universe.offspring_mean[type(self)],\n",
    "                                                    scale=self.universe.offspring_var[type(self)])))])\n",
    "        return [type(self)(gen=gen, age=0) for i in range(ncs)]\n",
    "    \n",
    "    def increment_age(self):\n",
    "        self.age = self.age + 1\n",
    "    \n",
    "    def kill(self):\n",
    "        self.alive = False\n",
    "        \n",
    "    def is_alive(self):\n",
    "        return self.alive == True\n",
    "    \n",
    "    def is_dead(self):\n",
    "        return self.alive == False\n",
    "    \n",
    "    def is_caterpillar(self):\n",
    "        return False\n",
    "\n",
    "    \n",
    "    # checks if the creature died randomly. If it did,\n",
    "    # updates its 'alive' attribute.\n",
    "    #\n",
    "    # returns if a random death occured (True) or not (False)\n",
    "    def random_death(self):\n",
    "        a = np.random.uniform(low=0.0, high=1.0)\n",
    "        # print('rd param: {}'.format(self.universe.random_death_chance[type(self)]))\n",
    "        # print('rd value: {}'.format(a))\n",
    "        if (a < self.universe.random_death_chance[type(self)]):\n",
    "            self.alive = False\n",
    "            return True\n",
    "        else:\n",
    "            return False\n",
    "\n",
    "        \n",
    "    # checks if an old death occured. If it occured, updates\n",
    "    # the 'alive' attribute of the creature.\n",
    "    #\n",
    "    # returns if an old age death actually occured (True) or\n",
    "    # not (False)\n",
    "    def old_age_death(self):\n",
    "        if self.age > self.lifespan:\n",
    "            self.alive = False\n",
    "            return True\n",
    "        else:\n",
    "            return False\n",
    "    \n",
    "\n",
    "# implements fly-only features and conditions\n",
    "# <<< this one's the predator/parasite\n",
    "class Fly(Creature):\n",
    "    pass\n",
    "\n",
    "# implements moth-only features and conditions\n",
    "class Moth(Creature):\n",
    "    caterpillars = []\n",
    "    \n",
    "    def __init__(self, gen, age=0):\n",
    "        \n",
    "        super().__init__(gen, age=age)\n",
    "        \n",
    "        #self.gender = 'm' if (np.random.uniform() < self.universe.mf_ratio[type(self)]) else 'f'\n",
    "        #self.fertility = True if (np.random.uniform() < self.universe.fertility_ratio[type(self)]) else False\n",
    "        #self.lifespan = max([1, int(np.round(np.random.normal(loc=self.universe.lifespan_mean[type(self)],\n",
    "        #                                                      scale=self.universe.lifespan_var[type(self)])))])\n",
    "        #self.age = age\n",
    "        #self.generation = gen\n",
    "        #self.alive = True\n",
    "        #self.offspring = 0\n",
    "        \n",
    "        if self.is_caterpillar():\n",
    "            self.caterpillars.append(self)\n",
    "    \n",
    "    def is_caterpillar(self):\n",
    "        return ((self.universe.egg_age[type(self)] < self.age) and\n",
    "                (self.age < self.universe.adult_age[type(self)]))\n",
    "    \n",
    "    def increment_age(self):\n",
    "        was_caterpillar = self.is_caterpillar()\n",
    "        self.age = self.age + 1\n",
    "        now_is_caterpillar = self.is_caterpillar()\n",
    "        \n",
    "        # was, but now its too old and it isn't anymore\n",
    "        if was_caterpillar and not now_is_caterpillar:\n",
    "            self.caterpillars.remove(self)\n",
    "        \n",
    "        # wasn't, but got older and achieve legal caterpillar age\n",
    "        if not was_caterpillar and now_is_caterpillar:\n",
    "            self.caterpillars.append(self)\n",
    "            \n",
    "        # if it was and still is, do nothing\n",
    "        # if it wasn't and still isn't, also do nothing\n",
    "\n",
    "    def kill(self):\n",
    "        self.alive = False\n",
    "        if self.is_caterpillar():\n",
    "            self.caterpillars.remove(self)\n",
    "            \n",
    "\n",
    "# set of biological laws that our system obeys,\n",
    "# amongst which:\n",
    "#    > distributions between male and female gender of each creature\n",
    "#    > lifespan of each creature\n",
    "#    > initial lifespan distribution for each creature\n",
    "#    > fertility ratio for each creature\n",
    "#    > offspring mean and variance (normal distributions predefined for\n",
    "#      these distributions)\n",
    "class Universe:\n",
    "    def __init__(self, fmfr, flm, flv, famin, famax, ffr, fom, fov, faa, fea, frd,  # fly parameters\n",
    "                       mmfr, mlm, mlv, mamin, mamax, mfr, mom, mov, maa, mea, mrd,  # moth parameters\n",
    "                       predation_coefficient):                      # other parameters\n",
    "        \n",
    "        self.mf_ratio = {Fly: fmfr, Moth: mmfr}\n",
    "        self.lifespan_mean = {Fly: flm, Moth: mlm}\n",
    "        self.lifespan_var = {Fly: flv, Moth: mlv}\n",
    "        self.initial_age_min = {Fly: famin, Moth: mamin}\n",
    "        self.initial_age_max = {Fly: famax, Moth: mamax}\n",
    "        self.fertility_ratio = {Fly: ffr, Moth: mfr}\n",
    "        self.offspring_mean = {Fly: fom, Moth: mom}\n",
    "        self.offspring_var = {Fly: fov, Moth: mov}\n",
    "        self.adult_age = {Fly: faa, Moth: maa}\n",
    "        self.egg_age = {Fly: fea, Moth: mea}\n",
    "        self.random_death_chance = {Fly: frd, Moth: mrd}\n",
    "        \n",
    "        self.predation_coefficient = predation_coefficient\n",
    "        \n",
    "        self.recordable_data = ['living',\n",
    "                                'dead',\n",
    "                                'male',\n",
    "                                'female',\n",
    "                                'randomly_killed',\n",
    "                                'old_age_killed',\n",
    "                                'parents',\n",
    "                                'newborn',\n",
    "                                'predation',\n",
    "                                'caterpillars'\n",
    "                               ]\n",
    "        self.c_types = ['moth-', 'fly-']\n",
    "        self.df_columns = [(c + d) for c, d in product(self.c_types, self.recordable_data)]\n",
    "        \n",
    "        \n",
    "class WonderfulWorld:\n",
    "    \n",
    "    def __init__(self, n_moths, n_flies, universe):\n",
    "        self.universe = universe\n",
    "        Creature.universe = universe\n",
    "        self.instant = 0\n",
    "          \n",
    "        self.n_moths = n_moths\n",
    "        self.n_flies = n_flies\n",
    "            \n",
    "        self.creatures = {Moth: [], Fly: []}\n",
    "        self.data_log = pd.DataFrame(data=None, index=None, columns=self.universe.df_columns)\n",
    "        \n",
    "    \n",
    "    # initializes the world with the random distributions of moths and flies\n",
    "    def initialize_world(self):\n",
    "        self.instant = 0\n",
    "        \n",
    "        # reset the list of caterpillars, if it wasn't already empty\n",
    "        del Moth.caterpillars[:]\n",
    "        \n",
    "        # initializes:\n",
    "        #    - ages based on a uniform distribution\n",
    "        #    - genders following the universe's male/female ratios\n",
    "        self.creatures = {\n",
    "            Moth: [Moth(0, age=np.random.randint(low=self.universe.initial_age_min[Moth], high=self.universe.initial_age_max[Moth] + 1)) \n",
    "                    for i in range(self.n_moths)],\n",
    "            Fly: [Fly(0, age=np.random.randint(low=self.universe.initial_age_min[Fly], high=self.universe.initial_age_max[Fly] + 1)) \n",
    "                   for i in range(self.n_flies)]\n",
    "        }\n",
    "        \n",
    "        self.children = {\n",
    "            Moth: [],\n",
    "            Fly: []\n",
    "        }\n",
    "        \n",
    "        \n",
    "        self.reset_iteration_log()\n",
    "        self.initialize_log()\n",
    "        self.save_iteration_log()\n",
    "    \n",
    "\n",
    "    def kill(self, creature):\n",
    "        creature.kill()\n",
    "        # self.creatures[type(creature)].remove(creature)\n",
    "        \n",
    "    \n",
    "    def procriate(self, creature):\n",
    "        children = creature.children(gen=(self.instant + 1))\n",
    "        self.children[type(creature)] += children\n",
    "        # self.creatures[type(creature)] += children\n",
    "        \n",
    "        self.iteration_data[type(creature)]['parents'] += 1\n",
    "        self.iteration_data[type(creature)]['newborn'] += len(children)\n",
    "    \n",
    "    def random_death(self, creature):\n",
    "        if creature.random_death():\n",
    "            self.iteration_data[type(creature)]['randomly_killed'] += 1\n",
    "            self.kill(creature)\n",
    "            return True\n",
    "        else:\n",
    "            return False\n",
    "    \n",
    "    def old_age_death(self, creature):\n",
    "        if creature.old_age_death():\n",
    "            self.iteration_data[type(creature)]['old_age_killed'] += 1\n",
    "            self.kill(creature)\n",
    "            return True\n",
    "        else:\n",
    "            return False\n",
    "    \n",
    "    # calculates the chances of a predation happening. Idea: use\n",
    "    # the ratio caterpillars/flies instead of the moth/flies ratio,\n",
    "    # since only the caterpillars can be infested\n",
    "    def predation_happens(self):\n",
    "        # chance of happening: coeff * n_caterpillars / n_flies\n",
    "        if self.creatures[Fly]:\n",
    "            return np.random.uniform() < (self.universe.predation_coefficient *\n",
    "                                          len(Moth.caterpillars) / len(self.creatures[Fly]))\n",
    "        else:\n",
    "            return False\n",
    "    \n",
    "    def single_step(self):\n",
    "        # IMPORTANT OBS: WE DO NOT PROCESS THE NEWBORN CREATURES\n",
    "        # ON THE SAME LOOP, ONLY ON THE NEXT ONE (even tho it would\n",
    "        # be easy to include them, it would suffice to set the upper\n",
    "        # limit on the living_creatures() generator as 'instant + 2')\n",
    "        #\n",
    "        self.reset_iteration_log()\n",
    "        self.instant = self.instant + 1\n",
    "        \n",
    "        # fly stuff:\n",
    "        #    > random death\n",
    "        #    > death by old age\n",
    "        #        - with its last breath, it parasited a moth\n",
    "        #          (or not, we roll the dice to check)\n",
    "        #    > nothing happens bean stew (increment age)\n",
    "        for fly in self.creatures[Fly]:\n",
    "            if not self.random_death(fly):\n",
    "                if self.old_age_death(fly):\n",
    "                    if fly.can_procriate():\n",
    "                        if self.predation_happens():\n",
    "                            self.predation(fly)\n",
    "                else:\n",
    "                    fly.increment_age()\n",
    "            self.log_creature(fly)\n",
    "        \n",
    "        # update the flies and remove the moth corpses from the field before\n",
    "        # checking on them\n",
    "        self.update_list(Fly)\n",
    "        self.update_list(Moth)\n",
    "        \n",
    "        # moth stuff:\n",
    "        #    > see if it died randomly\n",
    "        #    > see if died of old age\n",
    "        #        - if it was female and fertile, procriates on death\n",
    "        #    > nothing happens bean stew (increment age)\n",
    "        #    > check if it's a caterpillar now (not necessary)\n",
    "        #\n",
    "        # >>> how to process moths from older generations??\n",
    "        #     - copy the moths on the new generation list? (nah)\n",
    "        #     - go checking through all generations the living moths\n",
    "        #     - and process them (nah)\n",
    "        #     - implement a generator method living_moths() that returns\n",
    "        #       the indexes of only the living moths and iterate on that\n",
    "        #       (oya)\n",
    "        for moth in self.creatures[Moth]:\n",
    "            if not self.random_death(moth):\n",
    "                if self.old_age_death(moth):\n",
    "                    if moth.can_procriate():\n",
    "                        self.procriate(moth)\n",
    "                else:\n",
    "                    moth.increment_age()\n",
    "            self.log_creature(moth)\n",
    "        self.update_list(Moth)\n",
    "                \n",
    "        self.save_iteration_log()\n",
    "    \n",
    "    \n",
    "    # removes the dead and insert the newborn creatures on the lists\n",
    "    def update_list(self, creature_type):\n",
    "        self.creatures[creature_type][:] = [creature for creature in self.creatures[creature_type] if creature.is_alive()] + self.children[creature_type] \n",
    "        self.children[creature_type] = []\n",
    "        \n",
    "        \n",
    "    # save the useful data on a dataframe for each generation\n",
    "    def log_creature(self, creature):\n",
    "        self.iteration_data[type(creature)]['living'] += creature.is_alive()\n",
    "        self.iteration_data[type(creature)]['dead'] += creature.is_dead()\n",
    "        self.iteration_data[type(creature)]['male'] += creature.gender == 'm'\n",
    "        self.iteration_data[type(creature)]['female'] += creature.gender == 'f'\n",
    "        self.iteration_data[type(creature)]['caterpillars'] += creature.is_caterpillar()\n",
    "    \n",
    "    def reset_iteration_log(self):\n",
    "        self.iteration_data = {\n",
    "            Moth: dict.fromkeys(self.universe.recordable_data, 0),\n",
    "            Fly: dict.fromkeys(self.universe.recordable_data, 0)\n",
    "        }\n",
    "    \n",
    "    def save_iteration_log(self):\n",
    "        self.data_log = self.data_log.append(pd.DataFrame(data=[list(self.iteration_data[Moth].values()) +\n",
    "                                                                list(self.iteration_data[Fly].values())],\n",
    "                                                          index=[len(self.data_log)],\n",
    "                                                          columns=self.universe.df_columns))\n",
    "\n",
    "    def initialize_log(self):\n",
    "        self.data_log = pd.DataFrame(data=None, index=None, columns=self.universe.df_columns)\n",
    "        \n",
    "        for moth in self.creatures[Moth]:\n",
    "            self.log_creature(moth)\n",
    "        for fly in self.creatures[Fly]:\n",
    "            self.log_creature(fly)\n",
    "    \n",
    "    \n",
    "    # predation method\n",
    "    #     > everything already settle\n",
    "    #     > fly already dieded\n",
    "    #     > check to see if predation happens already made\n",
    "    #       and returned a green light\n",
    "    def predation(self, fly):\n",
    "        self.iteration_data[Fly]['predation'] += 1\n",
    "        self.iteration_data[Moth]['dead'] += 1\n",
    "        \n",
    "        # some shit happens\n",
    "        # get the lucky bastard (caterpillars) by its horns \n",
    "        # (index on the living caterpillars)\n",
    "        lucky_caterpillar = Moth.caterpillars[np.random.randint(low=0, high=len(Moth.caterpillars))]\n",
    "        \n",
    "        # kill 'em\n",
    "        self.kill(lucky_caterpillar)\n",
    "        \n",
    "        # new baby flies are born\n",
    "        # OBS::: WE DONT CHECK IF THE FLY IS FEMALE\n",
    "        self.procriate(fly)\n",
    "    \n",
    "    \n",
    "    # runs the world with a given number of steps 'end_of_times'\n",
    "    def run_world(self, end_of_times):\n",
    "        \n",
    "        self.initialize_world()\n",
    "        for i in range(end_of_times):\n",
    "            self.single_step()\n",
    "        \n",
    "        return self.data_log\n",
    "\n",
    "\n",
    "class SimulationControl:\n",
    "    \n",
    "    def __init__(self, world, cost_fly, cost_moth, plotter=None):\n",
    "        self.world = world\n",
    "        self.cost_fly = cost_fly\n",
    "        self.cost_moth = cost_moth\n",
    "        self.plotter = plotter\n",
    "    \n",
    "    # cost function calculation, given the output of the\n",
    "    # 'world.run_world(total_time)' method (a dataframe\n",
    "    # with all the data)\n",
    "    #\n",
    "    # The cost is evaluated as follow:\n",
    "    #     C = n_flies * C_fly + C_moth * \\int (moth(t)dt)\n",
    "    def cost(self, data_log):\n",
    "        moth_function = np.array(data_log[['moth-caterpillars']].values.reshape(len(data_log)), dtype=int)\n",
    "        return ((self.world.n_flies * self.cost_fly) +\n",
    "                (self.cost_moth * integrate.simps(moth_function)))\n",
    "    \n",
    "    \n",
    "    # executes a batch of simulations given we already have\n",
    "    # a functioning world.\n",
    "    #\n",
    "    # Receives the number of times steps 'simul_time' and\n",
    "    # the number of simulations 'n_simuls',\n",
    "    #\n",
    "    # Returns an averaged log between the logs of all\n",
    "    # simulations (cost not included)\n",
    "    #\n",
    "    def simulation_batch(self, simul_time, n_simuls):\n",
    "        avg_simul_log = self.empty_data_log(simul_time + 1)\n",
    "        for i in range(n_simuls):\n",
    "            avg_simul_log = avg_simul_log + self.world.run_world(simul_time)\n",
    "\n",
    "            if self.plotter is not None:\n",
    "                self.plotter.save_image(avg_simul_log / (i + 1), idx=i)\n",
    "                \n",
    "            \n",
    "        return (avg_simul_log / n_simuls)\n",
    "        \n",
    "    \n",
    "    def empty_data_log(self, elems):\n",
    "        return pd.DataFrame(data=np.zeros([elems, len(self.world.universe.df_columns)], dtype=int),\n",
    "                            index=range(elems), columns=u.df_columns)\n",
    "    \n",
    "    \n",
    "class Plotter:\n",
    "    def __init__(self, title, path, columns, n_simuls, parent_path=None):\n",
    "        self.ylim = 0\n",
    "        self.columns = columns\n",
    "        self.title = title\n",
    "\n",
    "        if parent_path is not None:\n",
    "            if not os.path.exists(parent_path):\n",
    "                os.mkdir(parent_path)\n",
    "            self.path = os.path.join(parent_path, path)\n",
    "        self.n_simuls_prec = max([1, int(np.ceil(np.log10(n_simuls + 1)))])\n",
    "        self.n_simuls = n_simuls\n",
    "        \n",
    "    def save_image(self, df, idx=0):\n",
    "        df[self.columns].plot()\n",
    "        plt.title(self.title + (' {0:0{1}}'.format(idx, self.n_simuls_prec)))\n",
    "        plt.savefig(self.path + ('_{0:0{1}}'.format(idx, self.n_simuls_prec)))\n",
    "        plt.close()\n",
    "        \n",
    "\n",
    "    def make_video(self, out_path, fps=None):\n",
    "        if parent_path is not None:\n",
    "            images = [os.path.join(parent_path, path + '_{0:0{1}}.png'.format(i, self.n_simuls_prec)) for i in range(self.n_simuls)]\n",
    "        else:\n",
    "            images = [(path + '_{0:0{1}}.png'.format(i, self.n_simuls_prec)) for i in range(self.n_simuls)]\n",
    "        \n",
    "        if fps is None:\n",
    "            fps = self.n_simuls / 10\n",
    "        \n",
    "        make_video(images, outvid=(out_path + '.avi'), fps=fps)"
   ]
  },
  {
   "cell_type": "code",
   "execution_count": 16,
   "metadata": {
    "collapsed": true
   },
   "outputs": [],
   "source": [
    "# beetle universe laws:\n",
    "#     - male/female ratio - male probability (mfr)\n",
    "#     - lifespan (lfsp, mean and var)\n",
    "#     - initial population age (age, min and max)\n",
    "#     - fertility ratio (fr)\n",
    "#     - offspring mean and variance (om and ov)\n",
    "#     - adult age (aa, equal or higher is adult)\n",
    "#     - egg age (ea, less or equal is egg)\n",
    "#     - random death (chance)\n",
    "# fly universe laws parameters\n",
    "fly_params = {\n",
    "                'mfr': 1.0,\n",
    "                'lm': 20,\n",
    "                'lv': 3,\n",
    "                'amin': 14,\n",
    "                'amax': 17,\n",
    "                'fr': 0.5,\n",
    "                'om': 10,\n",
    "                'ov': 5,\n",
    "                'aa': 10,\n",
    "                'ee': 4,\n",
    "                'rd': 0.0\n",
    "            }\n",
    "\n",
    "# moth universe laws parameters\n",
    "moth_params = {\n",
    "                'mfr': 0.5,\n",
    "                'lm': 20,\n",
    "                'lv': 3,\n",
    "                'amin': 0,\n",
    "                'amax': 0,\n",
    "                'fr': 0.5,\n",
    "                'om': 6,\n",
    "                'ov': 2,\n",
    "                'aa': 10,\n",
    "                'ee': 5,\n",
    "                'rd': 0.0\n",
    "              }\n",
    "\n",
    "# other parameters:\n",
    "#     - predation coefficient (pc)\n",
    "other_params = {\n",
    "                'pc': 1.0\n",
    "}\n",
    "\n",
    "# default costs:\n",
    "costs = {\n",
    "    'fly': 20.0,\n",
    "    'moth': 12.0\n",
    "}"
   ]
  },
  {
   "cell_type": "code",
   "execution_count": 17,
   "metadata": {
    "collapsed": true
   },
   "outputs": [],
   "source": [
    "# universe laws definition\n",
    "u = Universe(*fly_params.values(), *moth_params.values(), *other_params.values())\n",
    "\n",
    "# initial number of beetles and wasps\n",
    "nm = 100\n",
    "nf = 100\n",
    "\n",
    "# number of simulation steps\n",
    "steps = 70\n",
    "n_simuls = 1\n",
    "\n",
    "# image generation params\n",
    "title = 'test simulation'\n",
    "parent_path = 'output_images'\n",
    "path = 'test_simulation'\n",
    "columns = ['moth-living', 'fly-living']\n",
    "my_plotter = Plotter(title, path, columns, n_simuls, parent_path=parent_path)\n",
    "\n",
    "# world definition\n",
    "np.random.seed(42)\n",
    "w = WonderfulWorld(nm, nf, u)\n",
    "s = SimulationControl(w, *costs.values(), plotter=my_plotter)\n",
    "#df = w.run_world(end_of_times=steps)\n",
    "df = s.simulation_batch(steps, n_simuls)"
   ]
  },
  {
   "cell_type": "code",
   "execution_count": 18,
   "metadata": {},
   "outputs": [
    {
     "data": {
      "image/png": "[encoded data removed]",
      "text/plain": [
       "<matplotlib.figure.Figure at 0x7fd81189b780>"
      ]
     },
     "metadata": {},
     "output_type": "display_data"
    }
   ],
   "source": [
    "df[['moth-living', 'moth-newborn', 'moth-old_age_killed']].plot()\n",
    "plt.show()"
   ]
  },
  {
   "cell_type": "code",
   "execution_count": 40,
   "metadata": {},
   "outputs": [
    {
     "data": {
      "image/png": "[encoded data removed]",
      "text/plain": [
       "<matplotlib.figure.Figure at 0x9d735f0>"
      ]
     },
     "metadata": {},
     "output_type": "display_data"
    }
   ],
   "source": [
    "df[['moth-living', 'fly-living', 'moth-caterpillars', '']].plot()\n",
    "plt.show()"
   ]
  },
  {
   "cell_type": "code",
   "execution_count": 211,
   "metadata": {},
   "outputs": [
    {
     "data": {
      "text/plain": [
       "<VideoWriter 0A9C08D0>"
      ]
     },
     "execution_count": 211,
     "metadata": {},
     "output_type": "execute_result"
    }
   ],
   "source": []
  },
  {
   "cell_type": "code",
   "execution_count": 86,
   "metadata": {},
   "outputs": [
    {
     "data": {
      "image/png": "[encoded data removed]",
      "text/plain": [
       "<matplotlib.figure.Figure at 0x91cb2f0>"
      ]
     },
     "metadata": {},
     "output_type": "display_data"
    }
   ],
   "source": []
  },
  {
   "cell_type": "code",
   "execution_count": 26,
   "metadata": {},
   "outputs": [
    {
     "data": {
      "text/plain": [
       "201"
      ]
     },
     "execution_count": 26,
     "metadata": {},
     "output_type": "execute_result"
    }
   ],
   "source": [
    "# video params\n",
    "out_path = os.path.join('output_images', 'out_video')\n",
    "fps = 5\n",
    "\n",
    "my_plotter.make_video(out_path, fps=fps)"
   ]
  },
  {
   "cell_type": "code",
   "execution_count": 150,
   "metadata": {},
   "outputs": [
    {
     "name": "stdout",
     "output_type": "stream",
     "text": [
      "1.04139268516\n"
     ]
    }
   ],
   "source": [
    "print(np.log10(11))"
   ]
  },
  {
   "cell_type": "code",
   "execution_count": 192,
   "metadata": {
    "collapsed": true
   },
   "outputs": [],
   "source": []
  },
  {
   "cell_type": "code",
   "execution_count": 159,
   "metadata": {},
   "outputs": [
    {
     "data": {
      "text/plain": [
       "0"
      ]
     },
     "execution_count": 159,
     "metadata": {},
     "output_type": "execute_result"
    }
   ],
   "source": [
    "w.instant"
   ]
  },
  {
   "cell_type": "code",
   "execution_count": null,
   "metadata": {
    "collapsed": true
   },
   "outputs": [],
   "source": []
  },
  {
   "cell_type": "code",
   "execution_count": null,
   "metadata": {
    "collapsed": true
   },
   "outputs": [],
   "source": []
  },
  {
   "cell_type": "code",
   "execution_count": 303,
   "metadata": {},
   "outputs": [
    {
     "name": "stdout",
     "output_type": "stream",
     "text": [
      "200\n"
     ]
    }
   ],
   "source": [
    "#for m in w.moths[0]:\n",
    "#    print(m.age)\n",
    "print(len(w.moths[0]))"
   ]
  },
  {
   "cell_type": "code",
   "execution_count": 13,
   "metadata": {},
   "outputs": [
    {
     "data": {
      "text/plain": [
       "<__main__.Beetle at 0x7f830f271160>"
      ]
     },
     "execution_count": 13,
     "metadata": {},
     "output_type": "execute_result"
    }
   ],
   "source": [
    "# number of creatures\n",
    "# lifespan\n",
    "# initial lifespan distr\n",
    "# gender distr\n",
    "#"
   ]
  },
  {
   "cell_type": "code",
   "execution_count": null,
   "metadata": {
    "collapsed": true
   },
   "outputs": [],
   "source": []
  },
  {
   "cell_type": "code",
   "execution_count": 9,
   "metadata": {
    "collapsed": true
   },
   "outputs": [],
   "source": [
    "b = [0,0]"
   ]
  },
  {
   "cell_type": "code",
   "execution_count": 41,
   "metadata": {},
   "outputs": [
    {
     "data": {
      "text/plain": [
       "True"
      ]
     },
     "execution_count": 41,
     "metadata": {},
     "output_type": "execute_result"
    }
   ],
   "source": [
    "np.random.uniform() < 0.5"
   ]
  },
  {
   "cell_type": "code",
   "execution_count": 57,
   "metadata": {
    "collapsed": true
   },
   "outputs": [],
   "source": [
    "a = [(0,i) for i in range(5)]"
   ]
  },
  {
   "cell_type": "code",
   "execution_count": 62,
   "metadata": {},
   "outputs": [
    {
     "data": {
      "text/plain": [
       "[(0, 0), (0, 1), (0, 4)]"
      ]
     },
     "execution_count": 62,
     "metadata": {},
     "output_type": "execute_result"
    }
   ],
   "source": [
    "a"
   ]
  },
  {
   "cell_type": "code",
   "execution_count": 61,
   "metadata": {},
   "outputs": [
    {
     "name": "stdout",
     "output_type": "stream",
     "text": [
      "(0, 0)\n",
      "(0, 1)\n",
      "(0, 3)\n"
     ]
    }
   ],
   "source": [
    "for idx,elem in enumerate(a):\n",
    "    print(elem)\n",
    "    if idx == 2:\n",
    "        del a[idx]"
   ]
  },
  {
   "cell_type": "code",
   "execution_count": 25,
   "metadata": {
    "collapsed": true
   },
   "outputs": [],
   "source": [
    "del a[0][2]"
   ]
  },
  {
   "cell_type": "code",
   "execution_count": 174,
   "metadata": {
    "collapsed": true
   },
   "outputs": [],
   "source": [
    "a = (0,2)"
   ]
  },
  {
   "cell_type": "code",
   "execution_count": 175,
   "metadata": {
    "collapsed": true
   },
   "outputs": [],
   "source": [
    "def foo(a, b):\n",
    "    return a + b"
   ]
  },
  {
   "cell_type": "code",
   "execution_count": 176,
   "metadata": {},
   "outputs": [
    {
     "data": {
      "text/plain": [
       "2"
      ]
     },
     "execution_count": 176,
     "metadata": {},
     "output_type": "execute_result"
    }
   ],
   "source": [
    "foo(a[0], a[1])"
   ]
  },
  {
   "cell_type": "code",
   "execution_count": 178,
   "metadata": {},
   "outputs": [
    {
     "data": {
      "text/plain": [
       "2"
      ]
     },
     "execution_count": 178,
     "metadata": {},
     "output_type": "execute_result"
    }
   ],
   "source": [
    "foo(*a)"
   ]
  },
  {
   "cell_type": "code",
   "execution_count": 16,
   "metadata": {
    "collapsed": true
   },
   "outputs": [],
   "source": [
    "c = ['living_moths',\n",
    "     'female_living_moths',\n",
    "     'dead_moths',\n",
    "     'randomly_killed_moths',\n",
    "     'old_age_dead_moths', \n",
    "     'newborn_moths',\n",
    "     'living_flies',\n",
    "     'female_living_flies',\n",
    "     'dead_flies',\n",
    "     'randomly_killed_flies',\n",
    "     'old_age_dead_flies',\n",
    "     'actual_predator_flies',\n",
    "     'newborn_flies'\n",
    "     ]"
   ]
  },
  {
   "cell_type": "code",
   "execution_count": 17,
   "metadata": {},
   "outputs": [
    {
     "data": {
      "text/plain": [
       "['living_moths',\n",
       " 'female_living_moths',\n",
       " 'dead_moths',\n",
       " 'randomly_killed_moths',\n",
       " 'old_age_dead_moths',\n",
       " 'newborn_moths',\n",
       " 'living_flies',\n",
       " 'female_living_flies',\n",
       " 'dead_flies',\n",
       " 'randomly_killed_flies',\n",
       " 'old_age_dead_flies',\n",
       " 'actual_predator_flies',\n",
       " 'newborn_flies']"
      ]
     },
     "execution_count": 17,
     "metadata": {},
     "output_type": "execute_result"
    }
   ],
   "source": [
    "c"
   ]
  },
  {
   "cell_type": "code",
   "execution_count": 18,
   "metadata": {
    "collapsed": true
   },
   "outputs": [],
   "source": [
    "a = {xd: 0 for xd in c}"
   ]
  },
  {
   "cell_type": "code",
   "execution_count": 23,
   "metadata": {
    "collapsed": true
   },
   "outputs": [],
   "source": [
    "a = dict.fromkeys(c, 0)"
   ]
  },
  {
   "cell_type": "code",
   "execution_count": 3,
   "metadata": {
    "collapsed": true
   },
   "outputs": [],
   "source": [
    "a = ['sad', 'asd', 'asdad', 'asdas']\n",
    "b = ['fly-', 'moth-']"
   ]
  },
  {
   "cell_type": "code",
   "execution_count": 6,
   "metadata": {},
   "outputs": [
    {
     "data": {
      "text/plain": [
       "['fly-sad',\n",
       " 'fly-asd',\n",
       " 'fly-asdad',\n",
       " 'fly-asdas',\n",
       " 'moth-sad',\n",
       " 'moth-asd',\n",
       " 'moth-asdad',\n",
       " 'moth-asdas']"
      ]
     },
     "execution_count": 6,
     "metadata": {},
     "output_type": "execute_result"
    }
   ],
   "source": [
    "elems = ['fly-'+ s for s in a] + ['moth-'+s for s in a]\n",
    "elems"
   ]
  },
  {
   "cell_type": "code",
   "execution_count": 35,
   "metadata": {
    "collapsed": true
   },
   "outputs": [],
   "source": [
    "data = dict.fromkeys(elems, 0)"
   ]
  },
  {
   "cell_type": "code",
   "execution_count": 33,
   "metadata": {
    "collapsed": true
   },
   "outputs": [],
   "source": [
    "df = pd.DataFrame(data=None, index=None, columns=elems)"
   ]
  },
  {
   "cell_type": "code",
   "execution_count": 52,
   "metadata": {
    "collapsed": true
   },
   "outputs": [],
   "source": [
    "df = df.append(pd.DataFrame(data=[data.values()], columns=elems))"
   ]
  },
  {
   "cell_type": "code",
   "execution_count": 53,
   "metadata": {},
   "outputs": [
    {
     "data": {
      "text/html": [
       "<div>\n",
       "<style>\n",
       "    .dataframe thead tr:only-child th {\n",
       "        text-align: right;\n",
       "    }\n",
       "\n",
       "    .dataframe thead th {\n",
       "        text-align: left;\n",
       "    }\n",
       "\n",
       "    .dataframe tbody tr th {\n",
       "        vertical-align: top;\n",
       "    }\n",
       "</style>\n",
       "<table border=\"1\" class=\"dataframe\">\n",
       "  <thead>\n",
       "    <tr style=\"text-align: right;\">\n",
       "      <th></th>\n",
       "      <th>fly-sad</th>\n",
       "      <th>fly-asd</th>\n",
       "      <th>fly-asdad</th>\n",
       "      <th>fly-asdas</th>\n",
       "      <th>moth-sad</th>\n",
       "      <th>moth-asd</th>\n",
       "      <th>moth-asdad</th>\n",
       "      <th>moth-asdas</th>\n",
       "    </tr>\n",
       "  </thead>\n",
       "  <tbody>\n",
       "    <tr>\n",
       "      <th>0</th>\n",
       "      <td>1</td>\n",
       "      <td>1</td>\n",
       "      <td>1</td>\n",
       "      <td>1</td>\n",
       "      <td>1</td>\n",
       "      <td>1</td>\n",
       "      <td>1</td>\n",
       "      <td>1</td>\n",
       "    </tr>\n",
       "    <tr>\n",
       "      <th>0</th>\n",
       "      <td>1</td>\n",
       "      <td>1</td>\n",
       "      <td>1</td>\n",
       "      <td>1</td>\n",
       "      <td>1</td>\n",
       "      <td>1</td>\n",
       "      <td>1</td>\n",
       "      <td>1</td>\n",
       "    </tr>\n",
       "    <tr>\n",
       "      <th>0</th>\n",
       "      <td>1</td>\n",
       "      <td>1</td>\n",
       "      <td>1</td>\n",
       "      <td>1</td>\n",
       "      <td>1</td>\n",
       "      <td>1</td>\n",
       "      <td>1</td>\n",
       "      <td>1</td>\n",
       "    </tr>\n",
       "    <tr>\n",
       "      <th>0</th>\n",
       "      <td>0</td>\n",
       "      <td>0</td>\n",
       "      <td>0</td>\n",
       "      <td>0</td>\n",
       "      <td>0</td>\n",
       "      <td>0</td>\n",
       "      <td>0</td>\n",
       "      <td>0</td>\n",
       "    </tr>\n",
       "  </tbody>\n",
       "</table>\n",
       "</div>"
      ],
      "text/plain": [
       "  fly-sad fly-asd fly-asdad fly-asdas moth-sad moth-asd moth-asdad moth-asdas\n",
       "0       1       1         1         1        1        1          1          1\n",
       "0       1       1         1         1        1        1          1          1\n",
       "0       1       1         1         1        1        1          1          1\n",
       "0       0       0         0         0        0        0          0          0"
      ]
     },
     "execution_count": 53,
     "metadata": {},
     "output_type": "execute_result"
    }
   ],
   "source": [
    "df"
   ]
  },
  {
   "cell_type": "code",
   "execution_count": 222,
   "metadata": {},
   "outputs": [
    {
     "ename": "TypeError",
     "evalue": "expected str, bytes or os.PathLike object, not NoneType",
     "output_type": "error",
     "traceback": [
      "\u001b[1;31m---------------------------------------------------------------------------\u001b[0m",
      "\u001b[1;31mTypeError\u001b[0m                                 Traceback (most recent call last)",
      "\u001b[1;32m<ipython-input-222-e0bd19e2e3cf>\u001b[0m in \u001b[0;36m<module>\u001b[1;34m()\u001b[0m\n\u001b[1;32m----> 1\u001b[1;33m \u001b[0mos\u001b[0m\u001b[1;33m.\u001b[0m\u001b[0mpath\u001b[0m\u001b[1;33m.\u001b[0m\u001b[0mjoin\u001b[0m\u001b[1;33m(\u001b[0m\u001b[1;32mNone\u001b[0m\u001b[1;33m,\u001b[0m \u001b[1;34m'dsd'\u001b[0m\u001b[1;33m)\u001b[0m\u001b[1;33m\u001b[0m\u001b[0m\n\u001b[0m",
      "\u001b[1;32mC:\\Users\\rodrigo.almeidaberga\\AppData\\Local\\Continuum\\Anaconda3\\lib\\ntpath.py\u001b[0m in \u001b[0;36mjoin\u001b[1;34m(path, *paths)\u001b[0m\n\u001b[0;32m     73\u001b[0m \u001b[1;31m# Join two (or more) paths.\u001b[0m\u001b[1;33m\u001b[0m\u001b[1;33m\u001b[0m\u001b[0m\n\u001b[0;32m     74\u001b[0m \u001b[1;32mdef\u001b[0m \u001b[0mjoin\u001b[0m\u001b[1;33m(\u001b[0m\u001b[0mpath\u001b[0m\u001b[1;33m,\u001b[0m \u001b[1;33m*\u001b[0m\u001b[0mpaths\u001b[0m\u001b[1;33m)\u001b[0m\u001b[1;33m:\u001b[0m\u001b[1;33m\u001b[0m\u001b[0m\n\u001b[1;32m---> 75\u001b[1;33m     \u001b[0mpath\u001b[0m \u001b[1;33m=\u001b[0m \u001b[0mos\u001b[0m\u001b[1;33m.\u001b[0m\u001b[0mfspath\u001b[0m\u001b[1;33m(\u001b[0m\u001b[0mpath\u001b[0m\u001b[1;33m)\u001b[0m\u001b[1;33m\u001b[0m\u001b[0m\n\u001b[0m\u001b[0;32m     76\u001b[0m     \u001b[1;32mif\u001b[0m \u001b[0misinstance\u001b[0m\u001b[1;33m(\u001b[0m\u001b[0mpath\u001b[0m\u001b[1;33m,\u001b[0m \u001b[0mbytes\u001b[0m\u001b[1;33m)\u001b[0m\u001b[1;33m:\u001b[0m\u001b[1;33m\u001b[0m\u001b[0m\n\u001b[0;32m     77\u001b[0m         \u001b[0msep\u001b[0m \u001b[1;33m=\u001b[0m \u001b[1;34mb'\\\\'\u001b[0m\u001b[1;33m\u001b[0m\u001b[0m\n",
      "\u001b[1;31mTypeError\u001b[0m: expected str, bytes or os.PathLike object, not NoneType"
     ]
    }
   ],
   "source": [
    "os.path.join(None, 'dsd')"
   ]
  },
  {
   "cell_type": "code",
   "execution_count": 157,
   "metadata": {},
   "outputs": [
    {
     "name": "stdout",
     "output_type": "stream",
     "text": [
      "[]\n"
     ]
    }
   ],
   "source": [
    "lst1 = [1, 2, 3]\n",
    "lst2 = lst1\n",
    "del lst1[:]\n",
    "print(lst2)"
   ]
  },
  {
   "cell_type": "code",
   "execution_count": 14,
   "metadata": {},
   "outputs": [
    {
     "data": {
      "text/plain": [
       "(2.666666666666667, 2.960594732333751e-14)"
      ]
     },
     "execution_count": 14,
     "metadata": {},
     "output_type": "execute_result"
    }
   ],
   "source": [
    "integrate.quad(lambda t: t**2, 0, 2)"
   ]
  },
  {
   "cell_type": "code",
   "execution_count": 44,
   "metadata": {
    "collapsed": true
   },
   "outputs": [],
   "source": [
    "f = np.array(df[['fly-living']].values.reshape(len(df)), dtype=int)"
   ]
  },
  {
   "cell_type": "code",
   "execution_count": 45,
   "metadata": {},
   "outputs": [
    {
     "data": {
      "text/plain": [
       "array([100, 100,  95,  98,  87,  75,  72,  69,  62,  56,  54,  46,  34,\n",
       "        39,  31,  32,  30,  26,  17,  17,  14,  13,  13,  12,  25,  42,\n",
       "        42,  38,  35,  32,  33,  29,  29,  26,  24,  24,  25,  21,  17,\n",
       "        20,  18,  19,  19,  19,  17,  16,  15,   7,   6,   5,   5,  11,\n",
       "        13,  13,   9,  11,  11,   9,   8,   9,   9,   9,   9,   9,   9,\n",
       "         9,  15,  25,  22,  19,  22,  18,  18,  15,  13,  11,  11,  10,\n",
       "         7,   7,   8,   6,   7,   7,   7,   5,   6,   2,   4,   1,   0,\n",
       "         0,   0,   0,   0,   0,   0,   0,   0,   0,   0,   0,   0,   0,\n",
       "         0,   0,   0,   0,   0,   0,   0,   0,   0,   0,   0,   0,   0,\n",
       "         0,   0,   0,   0,   0,   0,   0,   0,   0,   0,   0,   0,   0,\n",
       "         0,   0,   0,   0,   0,   0,   0,   0,   0,   0,   0,   0,   0,\n",
       "         0,   0,   0,   0,   0,   0,   0,   0,   0,   0,   0,   0,   0,\n",
       "         0,   0,   0,   0,   0,   0,   0,   0,   0,   0,   0,   0,   0,\n",
       "         0,   0,   0,   0,   0,   0,   0,   0,   0,   0,   0,   0,   0,\n",
       "         0,   0,   0,   0,   0,   0,   0,   0,   0,   0,   0,   0,   0,\n",
       "         0,   0,   0,   0,   0,   0])"
      ]
     },
     "execution_count": 45,
     "metadata": {},
     "output_type": "execute_result"
    }
   ],
   "source": [
    "f"
   ]
  },
  {
   "cell_type": "code",
   "execution_count": 46,
   "metadata": {},
   "outputs": [
    {
     "data": {
      "text/plain": [
       "<function __main__.<lambda>>"
      ]
     },
     "execution_count": 46,
     "metadata": {},
     "output_type": "execute_result"
    }
   ],
   "source": [
    "lambda t: f[t]"
   ]
  },
  {
   "cell_type": "code",
   "execution_count": 47,
   "metadata": {
    "collapsed": true
   },
   "outputs": [],
   "source": [
    "a = [1, 1,1,1,1,0,0,0,0,0]"
   ]
  },
  {
   "cell_type": "code",
   "execution_count": 50,
   "metadata": {
    "collapsed": true
   },
   "outputs": [],
   "source": [
    "z = integrate.simps(a)"
   ]
  },
  {
   "cell_type": "code",
   "execution_count": 51,
   "metadata": {},
   "outputs": [
    {
     "data": {
      "text/plain": [
       "4.5"
      ]
     },
     "execution_count": 51,
     "metadata": {},
     "output_type": "execute_result"
    }
   ],
   "source": [
    "z"
   ]
  },
  {
   "cell_type": "code",
   "execution_count": 106,
   "metadata": {
    "collapsed": true
   },
   "outputs": [],
   "source": [
    "tt = df.head()"
   ]
  },
  {
   "cell_type": "code",
   "execution_count": 107,
   "metadata": {},
   "outputs": [
    {
     "data": {
      "text/html": [
       "<div>\n",
       "<style>\n",
       "    .dataframe thead tr:only-child th {\n",
       "        text-align: right;\n",
       "    }\n",
       "\n",
       "    .dataframe thead th {\n",
       "        text-align: left;\n",
       "    }\n",
       "\n",
       "    .dataframe tbody tr th {\n",
       "        vertical-align: top;\n",
       "    }\n",
       "</style>\n",
       "<table border=\"1\" class=\"dataframe\">\n",
       "  <thead>\n",
       "    <tr style=\"text-align: right;\">\n",
       "      <th></th>\n",
       "      <th>moth-living</th>\n",
       "      <th>moth-dead</th>\n",
       "      <th>moth-male</th>\n",
       "      <th>moth-female</th>\n",
       "      <th>moth-randomly_killed</th>\n",
       "      <th>moth-old_age_killed</th>\n",
       "      <th>moth-parents</th>\n",
       "      <th>moth-newborn</th>\n",
       "      <th>moth-predation</th>\n",
       "      <th>fly-living</th>\n",
       "      <th>fly-dead</th>\n",
       "      <th>fly-male</th>\n",
       "      <th>fly-female</th>\n",
       "      <th>fly-randomly_killed</th>\n",
       "      <th>fly-old_age_killed</th>\n",
       "      <th>fly-parents</th>\n",
       "      <th>fly-newborn</th>\n",
       "      <th>fly-predation</th>\n",
       "    </tr>\n",
       "  </thead>\n",
       "  <tbody>\n",
       "    <tr>\n",
       "      <th>0</th>\n",
       "      <td>100</td>\n",
       "      <td>0</td>\n",
       "      <td>51</td>\n",
       "      <td>49</td>\n",
       "      <td>0</td>\n",
       "      <td>0</td>\n",
       "      <td>0</td>\n",
       "      <td>0</td>\n",
       "      <td>0</td>\n",
       "      <td>100</td>\n",
       "      <td>0</td>\n",
       "      <td>53</td>\n",
       "      <td>47</td>\n",
       "      <td>0</td>\n",
       "      <td>0</td>\n",
       "      <td>0</td>\n",
       "      <td>0</td>\n",
       "      <td>0</td>\n",
       "    </tr>\n",
       "    <tr>\n",
       "      <th>1</th>\n",
       "      <td>88</td>\n",
       "      <td>6</td>\n",
       "      <td>48</td>\n",
       "      <td>46</td>\n",
       "      <td>6</td>\n",
       "      <td>0</td>\n",
       "      <td>0</td>\n",
       "      <td>0</td>\n",
       "      <td>0</td>\n",
       "      <td>100</td>\n",
       "      <td>0</td>\n",
       "      <td>53</td>\n",
       "      <td>47</td>\n",
       "      <td>0</td>\n",
       "      <td>0</td>\n",
       "      <td>0</td>\n",
       "      <td>0</td>\n",
       "      <td>0</td>\n",
       "    </tr>\n",
       "    <tr>\n",
       "      <th>2</th>\n",
       "      <td>82</td>\n",
       "      <td>7</td>\n",
       "      <td>47</td>\n",
       "      <td>41</td>\n",
       "      <td>3</td>\n",
       "      <td>3</td>\n",
       "      <td>0</td>\n",
       "      <td>0</td>\n",
       "      <td>0</td>\n",
       "      <td>95</td>\n",
       "      <td>9</td>\n",
       "      <td>51</td>\n",
       "      <td>53</td>\n",
       "      <td>5</td>\n",
       "      <td>4</td>\n",
       "      <td>1</td>\n",
       "      <td>13</td>\n",
       "      <td>1</td>\n",
       "    </tr>\n",
       "    <tr>\n",
       "      <th>3</th>\n",
       "      <td>74</td>\n",
       "      <td>8</td>\n",
       "      <td>42</td>\n",
       "      <td>39</td>\n",
       "      <td>4</td>\n",
       "      <td>3</td>\n",
       "      <td>0</td>\n",
       "      <td>0</td>\n",
       "      <td>0</td>\n",
       "      <td>98</td>\n",
       "      <td>9</td>\n",
       "      <td>52</td>\n",
       "      <td>55</td>\n",
       "      <td>5</td>\n",
       "      <td>4</td>\n",
       "      <td>1</td>\n",
       "      <td>12</td>\n",
       "      <td>1</td>\n",
       "    </tr>\n",
       "    <tr>\n",
       "      <th>4</th>\n",
       "      <td>59</td>\n",
       "      <td>10</td>\n",
       "      <td>37</td>\n",
       "      <td>32</td>\n",
       "      <td>5</td>\n",
       "      <td>5</td>\n",
       "      <td>0</td>\n",
       "      <td>0</td>\n",
       "      <td>0</td>\n",
       "      <td>87</td>\n",
       "      <td>10</td>\n",
       "      <td>47</td>\n",
       "      <td>50</td>\n",
       "      <td>7</td>\n",
       "      <td>3</td>\n",
       "      <td>0</td>\n",
       "      <td>0</td>\n",
       "      <td>0</td>\n",
       "    </tr>\n",
       "  </tbody>\n",
       "</table>\n",
       "</div>"
      ],
      "text/plain": [
       "  moth-living moth-dead moth-male moth-female moth-randomly_killed  \\\n",
       "0         100         0        51          49                    0   \n",
       "1          88         6        48          46                    6   \n",
       "2          82         7        47          41                    3   \n",
       "3          74         8        42          39                    4   \n",
       "4          59        10        37          32                    5   \n",
       "\n",
       "  moth-old_age_killed moth-parents moth-newborn moth-predation fly-living  \\\n",
       "0                   0            0            0              0        100   \n",
       "1                   0            0            0              0        100   \n",
       "2                   3            0            0              0         95   \n",
       "3                   3            0            0              0         98   \n",
       "4                   5            0            0              0         87   \n",
       "\n",
       "  fly-dead fly-male fly-female fly-randomly_killed fly-old_age_killed  \\\n",
       "0        0       53         47                   0                  0   \n",
       "1        0       53         47                   0                  0   \n",
       "2        9       51         53                   5                  4   \n",
       "3        9       52         55                   5                  4   \n",
       "4       10       47         50                   7                  3   \n",
       "\n",
       "  fly-parents fly-newborn fly-predation  \n",
       "0           0           0             0  \n",
       "1           0           0             0  \n",
       "2           1          13             1  \n",
       "3           1          12             1  \n",
       "4           0           0             0  "
      ]
     },
     "execution_count": 107,
     "metadata": {},
     "output_type": "execute_result"
    }
   ],
   "source": [
    "tt"
   ]
  },
  {
   "cell_type": "code",
   "execution_count": 108,
   "metadata": {
    "collapsed": true
   },
   "outputs": [],
   "source": [
    "tt = tt / 2"
   ]
  },
  {
   "cell_type": "code",
   "execution_count": 109,
   "metadata": {},
   "outputs": [
    {
     "data": {
      "text/html": [
       "<div>\n",
       "<style>\n",
       "    .dataframe thead tr:only-child th {\n",
       "        text-align: right;\n",
       "    }\n",
       "\n",
       "    .dataframe thead th {\n",
       "        text-align: left;\n",
       "    }\n",
       "\n",
       "    .dataframe tbody tr th {\n",
       "        vertical-align: top;\n",
       "    }\n",
       "</style>\n",
       "<table border=\"1\" class=\"dataframe\">\n",
       "  <thead>\n",
       "    <tr style=\"text-align: right;\">\n",
       "      <th></th>\n",
       "      <th>moth-living</th>\n",
       "      <th>moth-dead</th>\n",
       "      <th>moth-male</th>\n",
       "      <th>moth-female</th>\n",
       "      <th>moth-randomly_killed</th>\n",
       "      <th>moth-old_age_killed</th>\n",
       "      <th>moth-parents</th>\n",
       "      <th>moth-newborn</th>\n",
       "      <th>moth-predation</th>\n",
       "      <th>fly-living</th>\n",
       "      <th>fly-dead</th>\n",
       "      <th>fly-male</th>\n",
       "      <th>fly-female</th>\n",
       "      <th>fly-randomly_killed</th>\n",
       "      <th>fly-old_age_killed</th>\n",
       "      <th>fly-parents</th>\n",
       "      <th>fly-newborn</th>\n",
       "      <th>fly-predation</th>\n",
       "    </tr>\n",
       "  </thead>\n",
       "  <tbody>\n",
       "    <tr>\n",
       "      <th>0</th>\n",
       "      <td>50</td>\n",
       "      <td>0</td>\n",
       "      <td>25.5</td>\n",
       "      <td>24.5</td>\n",
       "      <td>0</td>\n",
       "      <td>0</td>\n",
       "      <td>0</td>\n",
       "      <td>0</td>\n",
       "      <td>0</td>\n",
       "      <td>50</td>\n",
       "      <td>0</td>\n",
       "      <td>26.5</td>\n",
       "      <td>23.5</td>\n",
       "      <td>0</td>\n",
       "      <td>0</td>\n",
       "      <td>0</td>\n",
       "      <td>0</td>\n",
       "      <td>0</td>\n",
       "    </tr>\n",
       "    <tr>\n",
       "      <th>1</th>\n",
       "      <td>44</td>\n",
       "      <td>3</td>\n",
       "      <td>24</td>\n",
       "      <td>23</td>\n",
       "      <td>3</td>\n",
       "      <td>0</td>\n",
       "      <td>0</td>\n",
       "      <td>0</td>\n",
       "      <td>0</td>\n",
       "      <td>50</td>\n",
       "      <td>0</td>\n",
       "      <td>26.5</td>\n",
       "      <td>23.5</td>\n",
       "      <td>0</td>\n",
       "      <td>0</td>\n",
       "      <td>0</td>\n",
       "      <td>0</td>\n",
       "      <td>0</td>\n",
       "    </tr>\n",
       "    <tr>\n",
       "      <th>2</th>\n",
       "      <td>41</td>\n",
       "      <td>3.5</td>\n",
       "      <td>23.5</td>\n",
       "      <td>20.5</td>\n",
       "      <td>1.5</td>\n",
       "      <td>1.5</td>\n",
       "      <td>0</td>\n",
       "      <td>0</td>\n",
       "      <td>0</td>\n",
       "      <td>47.5</td>\n",
       "      <td>4.5</td>\n",
       "      <td>25.5</td>\n",
       "      <td>26.5</td>\n",
       "      <td>2.5</td>\n",
       "      <td>2</td>\n",
       "      <td>0.5</td>\n",
       "      <td>6.5</td>\n",
       "      <td>0.5</td>\n",
       "    </tr>\n",
       "    <tr>\n",
       "      <th>3</th>\n",
       "      <td>37</td>\n",
       "      <td>4</td>\n",
       "      <td>21</td>\n",
       "      <td>19.5</td>\n",
       "      <td>2</td>\n",
       "      <td>1.5</td>\n",
       "      <td>0</td>\n",
       "      <td>0</td>\n",
       "      <td>0</td>\n",
       "      <td>49</td>\n",
       "      <td>4.5</td>\n",
       "      <td>26</td>\n",
       "      <td>27.5</td>\n",
       "      <td>2.5</td>\n",
       "      <td>2</td>\n",
       "      <td>0.5</td>\n",
       "      <td>6</td>\n",
       "      <td>0.5</td>\n",
       "    </tr>\n",
       "    <tr>\n",
       "      <th>4</th>\n",
       "      <td>29.5</td>\n",
       "      <td>5</td>\n",
       "      <td>18.5</td>\n",
       "      <td>16</td>\n",
       "      <td>2.5</td>\n",
       "      <td>2.5</td>\n",
       "      <td>0</td>\n",
       "      <td>0</td>\n",
       "      <td>0</td>\n",
       "      <td>43.5</td>\n",
       "      <td>5</td>\n",
       "      <td>23.5</td>\n",
       "      <td>25</td>\n",
       "      <td>3.5</td>\n",
       "      <td>1.5</td>\n",
       "      <td>0</td>\n",
       "      <td>0</td>\n",
       "      <td>0</td>\n",
       "    </tr>\n",
       "  </tbody>\n",
       "</table>\n",
       "</div>"
      ],
      "text/plain": [
       "  moth-living moth-dead moth-male moth-female moth-randomly_killed  \\\n",
       "0          50         0      25.5        24.5                    0   \n",
       "1          44         3        24          23                    3   \n",
       "2          41       3.5      23.5        20.5                  1.5   \n",
       "3          37         4        21        19.5                    2   \n",
       "4        29.5         5      18.5          16                  2.5   \n",
       "\n",
       "  moth-old_age_killed moth-parents moth-newborn moth-predation fly-living  \\\n",
       "0                   0            0            0              0         50   \n",
       "1                   0            0            0              0         50   \n",
       "2                 1.5            0            0              0       47.5   \n",
       "3                 1.5            0            0              0         49   \n",
       "4                 2.5            0            0              0       43.5   \n",
       "\n",
       "  fly-dead fly-male fly-female fly-randomly_killed fly-old_age_killed  \\\n",
       "0        0     26.5       23.5                   0                  0   \n",
       "1        0     26.5       23.5                   0                  0   \n",
       "2      4.5     25.5       26.5                 2.5                  2   \n",
       "3      4.5       26       27.5                 2.5                  2   \n",
       "4        5     23.5         25                 3.5                1.5   \n",
       "\n",
       "  fly-parents fly-newborn fly-predation  \n",
       "0           0           0             0  \n",
       "1           0           0             0  \n",
       "2         0.5         6.5           0.5  \n",
       "3         0.5           6           0.5  \n",
       "4           0           0             0  "
      ]
     },
     "execution_count": 109,
     "metadata": {},
     "output_type": "execute_result"
    }
   ],
   "source": [
    "tt"
   ]
  },
  {
   "cell_type": "code",
   "execution_count": 72,
   "metadata": {
    "collapsed": true
   },
   "outputs": [],
   "source": [
    "tt = tt + tt2"
   ]
  },
  {
   "cell_type": "code",
   "execution_count": 73,
   "metadata": {},
   "outputs": [
    {
     "data": {
      "text/html": [
       "<div>\n",
       "<style>\n",
       "    .dataframe thead tr:only-child th {\n",
       "        text-align: right;\n",
       "    }\n",
       "\n",
       "    .dataframe thead th {\n",
       "        text-align: left;\n",
       "    }\n",
       "\n",
       "    .dataframe tbody tr th {\n",
       "        vertical-align: top;\n",
       "    }\n",
       "</style>\n",
       "<table border=\"1\" class=\"dataframe\">\n",
       "  <thead>\n",
       "    <tr style=\"text-align: right;\">\n",
       "      <th></th>\n",
       "      <th>moth-living</th>\n",
       "      <th>moth-dead</th>\n",
       "      <th>moth-male</th>\n",
       "      <th>moth-female</th>\n",
       "      <th>moth-randomly_killed</th>\n",
       "      <th>moth-old_age_killed</th>\n",
       "      <th>moth-parents</th>\n",
       "      <th>moth-newborn</th>\n",
       "      <th>moth-predation</th>\n",
       "      <th>fly-living</th>\n",
       "      <th>fly-dead</th>\n",
       "      <th>fly-male</th>\n",
       "      <th>fly-female</th>\n",
       "      <th>fly-randomly_killed</th>\n",
       "      <th>fly-old_age_killed</th>\n",
       "      <th>fly-parents</th>\n",
       "      <th>fly-newborn</th>\n",
       "      <th>fly-predation</th>\n",
       "    </tr>\n",
       "  </thead>\n",
       "  <tbody>\n",
       "    <tr>\n",
       "      <th>0</th>\n",
       "      <td>NaN</td>\n",
       "      <td>NaN</td>\n",
       "      <td>NaN</td>\n",
       "      <td>NaN</td>\n",
       "      <td>NaN</td>\n",
       "      <td>NaN</td>\n",
       "      <td>NaN</td>\n",
       "      <td>NaN</td>\n",
       "      <td>NaN</td>\n",
       "      <td>NaN</td>\n",
       "      <td>NaN</td>\n",
       "      <td>NaN</td>\n",
       "      <td>NaN</td>\n",
       "      <td>NaN</td>\n",
       "      <td>NaN</td>\n",
       "      <td>NaN</td>\n",
       "      <td>NaN</td>\n",
       "      <td>NaN</td>\n",
       "    </tr>\n",
       "    <tr>\n",
       "      <th>1</th>\n",
       "      <td>NaN</td>\n",
       "      <td>NaN</td>\n",
       "      <td>NaN</td>\n",
       "      <td>NaN</td>\n",
       "      <td>NaN</td>\n",
       "      <td>NaN</td>\n",
       "      <td>NaN</td>\n",
       "      <td>NaN</td>\n",
       "      <td>NaN</td>\n",
       "      <td>NaN</td>\n",
       "      <td>NaN</td>\n",
       "      <td>NaN</td>\n",
       "      <td>NaN</td>\n",
       "      <td>NaN</td>\n",
       "      <td>NaN</td>\n",
       "      <td>NaN</td>\n",
       "      <td>NaN</td>\n",
       "      <td>NaN</td>\n",
       "    </tr>\n",
       "    <tr>\n",
       "      <th>2</th>\n",
       "      <td>NaN</td>\n",
       "      <td>NaN</td>\n",
       "      <td>NaN</td>\n",
       "      <td>NaN</td>\n",
       "      <td>NaN</td>\n",
       "      <td>NaN</td>\n",
       "      <td>NaN</td>\n",
       "      <td>NaN</td>\n",
       "      <td>NaN</td>\n",
       "      <td>NaN</td>\n",
       "      <td>NaN</td>\n",
       "      <td>NaN</td>\n",
       "      <td>NaN</td>\n",
       "      <td>NaN</td>\n",
       "      <td>NaN</td>\n",
       "      <td>NaN</td>\n",
       "      <td>NaN</td>\n",
       "      <td>NaN</td>\n",
       "    </tr>\n",
       "    <tr>\n",
       "      <th>3</th>\n",
       "      <td>NaN</td>\n",
       "      <td>NaN</td>\n",
       "      <td>NaN</td>\n",
       "      <td>NaN</td>\n",
       "      <td>NaN</td>\n",
       "      <td>NaN</td>\n",
       "      <td>NaN</td>\n",
       "      <td>NaN</td>\n",
       "      <td>NaN</td>\n",
       "      <td>NaN</td>\n",
       "      <td>NaN</td>\n",
       "      <td>NaN</td>\n",
       "      <td>NaN</td>\n",
       "      <td>NaN</td>\n",
       "      <td>NaN</td>\n",
       "      <td>NaN</td>\n",
       "      <td>NaN</td>\n",
       "      <td>NaN</td>\n",
       "    </tr>\n",
       "    <tr>\n",
       "      <th>4</th>\n",
       "      <td>NaN</td>\n",
       "      <td>NaN</td>\n",
       "      <td>NaN</td>\n",
       "      <td>NaN</td>\n",
       "      <td>NaN</td>\n",
       "      <td>NaN</td>\n",
       "      <td>NaN</td>\n",
       "      <td>NaN</td>\n",
       "      <td>NaN</td>\n",
       "      <td>NaN</td>\n",
       "      <td>NaN</td>\n",
       "      <td>NaN</td>\n",
       "      <td>NaN</td>\n",
       "      <td>NaN</td>\n",
       "      <td>NaN</td>\n",
       "      <td>NaN</td>\n",
       "      <td>NaN</td>\n",
       "      <td>NaN</td>\n",
       "    </tr>\n",
       "  </tbody>\n",
       "</table>\n",
       "</div>"
      ],
      "text/plain": [
       "  moth-living moth-dead moth-male moth-female moth-randomly_killed  \\\n",
       "0         NaN       NaN       NaN         NaN                  NaN   \n",
       "1         NaN       NaN       NaN         NaN                  NaN   \n",
       "2         NaN       NaN       NaN         NaN                  NaN   \n",
       "3         NaN       NaN       NaN         NaN                  NaN   \n",
       "4         NaN       NaN       NaN         NaN                  NaN   \n",
       "\n",
       "  moth-old_age_killed moth-parents moth-newborn moth-predation fly-living  \\\n",
       "0                 NaN          NaN          NaN            NaN        NaN   \n",
       "1                 NaN          NaN          NaN            NaN        NaN   \n",
       "2                 NaN          NaN          NaN            NaN        NaN   \n",
       "3                 NaN          NaN          NaN            NaN        NaN   \n",
       "4                 NaN          NaN          NaN            NaN        NaN   \n",
       "\n",
       "  fly-dead fly-male fly-female fly-randomly_killed fly-old_age_killed  \\\n",
       "0      NaN      NaN        NaN                 NaN                NaN   \n",
       "1      NaN      NaN        NaN                 NaN                NaN   \n",
       "2      NaN      NaN        NaN                 NaN                NaN   \n",
       "3      NaN      NaN        NaN                 NaN                NaN   \n",
       "4      NaN      NaN        NaN                 NaN                NaN   \n",
       "\n",
       "  fly-parents fly-newborn fly-predation  \n",
       "0         NaN         NaN           NaN  \n",
       "1         NaN         NaN           NaN  \n",
       "2         NaN         NaN           NaN  \n",
       "3         NaN         NaN           NaN  \n",
       "4         NaN         NaN           NaN  "
      ]
     },
     "execution_count": 73,
     "metadata": {},
     "output_type": "execute_result"
    }
   ],
   "source": [
    "u."
   ]
  },
  {
   "cell_type": "code",
   "execution_count": 93,
   "metadata": {
    "collapsed": true
   },
   "outputs": [],
   "source": [
    "tt = pd.DataFrame(data=[[0] * len(u.df_columns)], index=range(200), columns=u.df_columns)"
   ]
  },
  {
   "cell_type": "code",
   "execution_count": 102,
   "metadata": {
    "collapsed": true
   },
   "outputs": [],
   "source": [
    "tt = pd.DataFrame(data=np.zeros([200, len(u.df_columns)], dtype=int), index=range(200), columns=u.df_columns)"
   ]
  },
  {
   "cell_type": "code",
   "execution_count": 123,
   "metadata": {
    "collapsed": true
   },
   "outputs": [],
   "source": [
    "tt = tt + tt"
   ]
  },
  {
   "cell_type": "code",
   "execution_count": 124,
   "metadata": {},
   "outputs": [
    {
     "data": {
      "text/html": [
       "<div>\n",
       "<style>\n",
       "    .dataframe thead tr:only-child th {\n",
       "        text-align: right;\n",
       "    }\n",
       "\n",
       "    .dataframe thead th {\n",
       "        text-align: left;\n",
       "    }\n",
       "\n",
       "    .dataframe tbody tr th {\n",
       "        vertical-align: top;\n",
       "    }\n",
       "</style>\n",
       "<table border=\"1\" class=\"dataframe\">\n",
       "  <thead>\n",
       "    <tr style=\"text-align: right;\">\n",
       "      <th></th>\n",
       "      <th>moth-living</th>\n",
       "      <th>moth-dead</th>\n",
       "      <th>moth-male</th>\n",
       "      <th>moth-female</th>\n",
       "      <th>moth-randomly_killed</th>\n",
       "      <th>moth-old_age_killed</th>\n",
       "      <th>moth-parents</th>\n",
       "      <th>moth-newborn</th>\n",
       "      <th>moth-predation</th>\n",
       "      <th>fly-living</th>\n",
       "      <th>fly-dead</th>\n",
       "      <th>fly-male</th>\n",
       "      <th>fly-female</th>\n",
       "      <th>fly-randomly_killed</th>\n",
       "      <th>fly-old_age_killed</th>\n",
       "      <th>fly-parents</th>\n",
       "      <th>fly-newborn</th>\n",
       "      <th>fly-predation</th>\n",
       "    </tr>\n",
       "  </thead>\n",
       "  <tbody>\n",
       "    <tr>\n",
       "      <th>0</th>\n",
       "      <td>100</td>\n",
       "      <td>0</td>\n",
       "      <td>51</td>\n",
       "      <td>49</td>\n",
       "      <td>0</td>\n",
       "      <td>0</td>\n",
       "      <td>0</td>\n",
       "      <td>0</td>\n",
       "      <td>0</td>\n",
       "      <td>100</td>\n",
       "      <td>0</td>\n",
       "      <td>53</td>\n",
       "      <td>47</td>\n",
       "      <td>0</td>\n",
       "      <td>0</td>\n",
       "      <td>0</td>\n",
       "      <td>0</td>\n",
       "      <td>0</td>\n",
       "    </tr>\n",
       "    <tr>\n",
       "      <th>1</th>\n",
       "      <td>88</td>\n",
       "      <td>6</td>\n",
       "      <td>48</td>\n",
       "      <td>46</td>\n",
       "      <td>6</td>\n",
       "      <td>0</td>\n",
       "      <td>0</td>\n",
       "      <td>0</td>\n",
       "      <td>0</td>\n",
       "      <td>100</td>\n",
       "      <td>0</td>\n",
       "      <td>53</td>\n",
       "      <td>47</td>\n",
       "      <td>0</td>\n",
       "      <td>0</td>\n",
       "      <td>0</td>\n",
       "      <td>0</td>\n",
       "      <td>0</td>\n",
       "    </tr>\n",
       "    <tr>\n",
       "      <th>2</th>\n",
       "      <td>82</td>\n",
       "      <td>7</td>\n",
       "      <td>47</td>\n",
       "      <td>41</td>\n",
       "      <td>3</td>\n",
       "      <td>3</td>\n",
       "      <td>0</td>\n",
       "      <td>0</td>\n",
       "      <td>0</td>\n",
       "      <td>95</td>\n",
       "      <td>9</td>\n",
       "      <td>51</td>\n",
       "      <td>53</td>\n",
       "      <td>5</td>\n",
       "      <td>4</td>\n",
       "      <td>1</td>\n",
       "      <td>13</td>\n",
       "      <td>1</td>\n",
       "    </tr>\n",
       "    <tr>\n",
       "      <th>3</th>\n",
       "      <td>74</td>\n",
       "      <td>8</td>\n",
       "      <td>42</td>\n",
       "      <td>39</td>\n",
       "      <td>4</td>\n",
       "      <td>3</td>\n",
       "      <td>0</td>\n",
       "      <td>0</td>\n",
       "      <td>0</td>\n",
       "      <td>98</td>\n",
       "      <td>9</td>\n",
       "      <td>52</td>\n",
       "      <td>55</td>\n",
       "      <td>5</td>\n",
       "      <td>4</td>\n",
       "      <td>1</td>\n",
       "      <td>12</td>\n",
       "      <td>1</td>\n",
       "    </tr>\n",
       "    <tr>\n",
       "      <th>4</th>\n",
       "      <td>59</td>\n",
       "      <td>10</td>\n",
       "      <td>37</td>\n",
       "      <td>32</td>\n",
       "      <td>5</td>\n",
       "      <td>5</td>\n",
       "      <td>0</td>\n",
       "      <td>0</td>\n",
       "      <td>0</td>\n",
       "      <td>87</td>\n",
       "      <td>10</td>\n",
       "      <td>47</td>\n",
       "      <td>50</td>\n",
       "      <td>7</td>\n",
       "      <td>3</td>\n",
       "      <td>0</td>\n",
       "      <td>0</td>\n",
       "      <td>0</td>\n",
       "    </tr>\n",
       "  </tbody>\n",
       "</table>\n",
       "</div>"
      ],
      "text/plain": [
       "  moth-living moth-dead moth-male moth-female moth-randomly_killed  \\\n",
       "0         100         0        51          49                    0   \n",
       "1          88         6        48          46                    6   \n",
       "2          82         7        47          41                    3   \n",
       "3          74         8        42          39                    4   \n",
       "4          59        10        37          32                    5   \n",
       "\n",
       "  moth-old_age_killed moth-parents moth-newborn moth-predation fly-living  \\\n",
       "0                   0            0            0              0        100   \n",
       "1                   0            0            0              0        100   \n",
       "2                   3            0            0              0         95   \n",
       "3                   3            0            0              0         98   \n",
       "4                   5            0            0              0         87   \n",
       "\n",
       "  fly-dead fly-male fly-female fly-randomly_killed fly-old_age_killed  \\\n",
       "0        0       53         47                   0                  0   \n",
       "1        0       53         47                   0                  0   \n",
       "2        9       51         53                   5                  4   \n",
       "3        9       52         55                   5                  4   \n",
       "4       10       47         50                   7                  3   \n",
       "\n",
       "  fly-parents fly-newborn fly-predation  \n",
       "0           0           0             0  \n",
       "1           0           0             0  \n",
       "2           1          13             1  \n",
       "3           1          12             1  \n",
       "4           0           0             0  "
      ]
     },
     "execution_count": 124,
     "metadata": {},
     "output_type": "execute_result"
    }
   ],
   "source": [
    "tt"
   ]
  },
  {
   "cell_type": "code",
   "execution_count": 102,
   "metadata": {
    "collapsed": true
   },
   "outputs": [],
   "source": [
    "f = plt.figure()\n",
    "ax = df[['moth-living']].plot()\n",
    "f.add_axes()\n",
    "plt.savefig('testx')\n",
    "plt.close()"
   ]
  },
  {
   "cell_type": "markdown",
   "metadata": {
    "collapsed": true
   },
   "source": [
    "# Convert the text file into csv format using pandas"
   ]
  },
  {
   "cell_type": "code",
   "execution_count": 40,
   "metadata": {
    "collapsed": true
   },
   "outputs": [],
   "source": []
  },
  {
   "cell_type": "code",
   "execution_count": null,
   "metadata": {
    "collapsed": true
   },
   "outputs": [],
   "source": []
  },
  {
   "cell_type": "code",
   "execution_count": 5,
   "metadata": {},
   "outputs": [],
   "source": [
    "file1 = 'BrocasP-No-Area.txt'\n",
    "file2 = 'Densidade_sem_cotesia-bin_02.txt'\n",
    "file = file1\n",
    "\n",
    "with open(os.path.join('data', file1)) as f:\n",
    "    array = [[float(x) for x in line.split()] for line in f]\n",
    "    df_n_A = pd.DataFrame(data=array, columns=['n','A','dens'])\n",
    "    \n",
    "with open(os.path.join('data', file2)) as f:\n",
    "    array = [[float(x) for x in line.split()] for line in f]\n",
    "    df_p = pd.DataFrame(data=array, columns=['p','P(p)'])"
   ]
  },
  {
   "cell_type": "code",
   "execution_count": 31,
   "metadata": {
    "collapsed": true
   },
   "outputs": [],
   "source": [
    "df = pd.read_csv(os.path.join('tests', 'outputs', 'simul_results_0.csv'))\n",
    "#df[['fly-living', 'fly-dead', 'fly-randomly_killed', 'fly-old_age_killed', 'fly-adults', 'fly-parents', 'fly-newborn']]"
   ]
  },
  {
   "cell_type": "markdown",
   "metadata": {},
   "source": [
    "# Poisson and Bayes testing"
   ]
  },
  {
   "cell_type": "markdown",
   "metadata": {},
   "source": [
    "Cost with Bayes:\n",
    "$$ C_B(w) = \\Big[ \\sum_{\\rho} P(\\rho | n, A)  \\cdot C(\\rho, w) \\Big] $$\n",
    "\n",
    "Apply Bayes' theorem:\n",
    "$$ C_B(w) = \\Big[ \\sum_{\\rho} \\frac{P(n | A, \\rho) P(\\rho)}{P(n)}  \\cdot C(\\rho, w) \\Big] $$\n",
    "$$ C_B(w) = \\frac{1}{P(n)} \\Big[ \\sum_{\\rho} P(n | A, \\rho) P(\\rho) \\cdot C(\\rho, w) \\Big] $$\n",
    "\n",
    "And from the total probability law:\n",
    "$$ P(n) = \\Big[ \\sum_{\\rho} P(n | A, \\rho) P(\\rho) \\Big] $$"
   ]
  },
  {
   "cell_type": "code",
   "execution_count": 11,
   "metadata": {
    "collapsed": true
   },
   "outputs": [],
   "source": [
    "def poisson(n, A, p):\n",
    "    return (((p * A) ** n) * np.exp(-p * A)) / factorial(n)\n",
    "\n",
    "def bayes(p, n, A, P_p, P_n):\n",
    "    return (poisson(n, A, p) * P_p) / P_n\n",
    "\n",
    "# A : area (float)\n",
    "# n_moths : number of moths (int)\n",
    "# n_flies : number of flies (int)\n",
    "# cost: cost without bayes (dataframe, has the 'n_flies' and the 'n_moths' columns)\n",
    "# p_data : data regarding the density probability function (dataframe, has the\n",
    "#          'p' and 'P(p)' columns)\n",
    "#\n",
    "# return an exception if there is no calculated cost without bayes with\n",
    "# the required number of moths or flies.\n",
    "#\n",
    "# If the cost dataframe has several different rows for the same n_moths\n",
    "# and n_flies, it uses only the last one (expected to be the more 'recent' one)\n",
    "def bayes_cost(p_data, A, n_moths, n_flies, cost=None):\n",
    "    \n",
    "    cost_b = 0\n",
    "    norm_factor = 0\n",
    "    for p in p_data.values:\n",
    "        local_prob = poisson(n_moths, A, p[0]) * p[1]\n",
    "        # cost_b += local_prob * normal_cost[('p' == p[0]) and ('n_flies' == n_flies)]\n",
    "        cost_b += local_prob\n",
    "        norm_factor += local_prob\n",
    "    \n",
    "    # return cost_b / norm_factor\n",
    "    return cost_b"
   ]
  },
  {
   "cell_type": "code",
   "execution_count": 12,
   "metadata": {},
   "outputs": [
    {
     "data": {
      "text/html": [
       "<div>\n",
       "<style>\n",
       "    .dataframe thead tr:only-child th {\n",
       "        text-align: right;\n",
       "    }\n",
       "\n",
       "    .dataframe thead th {\n",
       "        text-align: left;\n",
       "    }\n",
       "\n",
       "    .dataframe tbody tr th {\n",
       "        vertical-align: top;\n",
       "    }\n",
       "</style>\n",
       "<table border=\"1\" class=\"dataframe\">\n",
       "  <thead>\n",
       "    <tr style=\"text-align: right;\">\n",
       "      <th></th>\n",
       "      <th>p</th>\n",
       "      <th>P(p)</th>\n",
       "    </tr>\n",
       "  </thead>\n",
       "  <tbody>\n",
       "    <tr>\n",
       "      <th>0</th>\n",
       "      <td>0.00</td>\n",
       "      <td>0.737952</td>\n",
       "    </tr>\n",
       "    <tr>\n",
       "      <th>1</th>\n",
       "      <td>0.02</td>\n",
       "      <td>0.094378</td>\n",
       "    </tr>\n",
       "    <tr>\n",
       "      <th>2</th>\n",
       "      <td>0.04</td>\n",
       "      <td>0.047189</td>\n",
       "    </tr>\n",
       "    <tr>\n",
       "      <th>3</th>\n",
       "      <td>0.06</td>\n",
       "      <td>0.032129</td>\n",
       "    </tr>\n",
       "    <tr>\n",
       "      <th>4</th>\n",
       "      <td>0.08</td>\n",
       "      <td>0.016064</td>\n",
       "    </tr>\n",
       "  </tbody>\n",
       "</table>\n",
       "</div>"
      ],
      "text/plain": [
       "      p      P(p)\n",
       "0  0.00  0.737952\n",
       "1  0.02  0.094378\n",
       "2  0.04  0.047189\n",
       "3  0.06  0.032129\n",
       "4  0.08  0.016064"
      ]
     },
     "execution_count": 12,
     "metadata": {},
     "output_type": "execute_result"
    }
   ],
   "source": [
    "n_moths = 1\n",
    "n_flies = 5\n",
    "A = 120\n",
    "df_p.head()"
   ]
  },
  {
   "cell_type": "code",
   "execution_count": 13,
   "metadata": {},
   "outputs": [
    {
     "data": {
      "text/plain": [
       "0.022596611093083106"
      ]
     },
     "execution_count": 13,
     "metadata": {},
     "output_type": "execute_result"
    }
   ],
   "source": [
    "bayes_cost(df_p, A, n_moths, n_flies)"
   ]
  },
  {
   "cell_type": "code",
   "execution_count": null,
   "metadata": {
    "collapsed": true
   },
   "outputs": [],
   "source": []
  },
  {
   "cell_type": "code",
   "execution_count": null,
   "metadata": {
    "collapsed": true
   },
   "outputs": [],
   "source": []
  },
  {
   "cell_type": "code",
   "execution_count": 36,
   "metadata": {
    "collapsed": true
   },
   "outputs": [],
   "source": []
  },
  {
   "cell_type": "code",
   "execution_count": null,
   "metadata": {
    "collapsed": true
   },
   "outputs": [],
   "source": []
  }
 ],
 "metadata": {
  "hide_input": false,
  "kernelspec": {
   "display_name": "Python 3",
   "language": "python",
   "name": "python3"
  },
  "language_info": {
   "codemirror_mode": {
    "name": "ipython",
    "version": 3
   },
   "file_extension": ".py",
   "mimetype": "text/x-python",
   "name": "python",
   "nbconvert_exporter": "python",
   "pygments_lexer": "ipython3",
   "version": "3.6.2"
  },
  "toc": {
   "colors": {
    "hover_highlight": "#DAA520",
    "navigate_num": "#000000",
    "navigate_text": "#333333",
    "running_highlight": "#FF0000",
    "selected_highlight": "#FFD700",
    "sidebar_border": "#EEEEEE",
    "wrapper_background": "#FFFFFF"
   },
   "moveMenuLeft": true,
   "nav_menu": {
    "height": "30px",
    "width": "252px"
   },
   "navigate_menu": true,
   "number_sections": true,
   "sideBar": true,
   "threshold": 4,
   "toc_cell": true,
   "toc_section_display": "block",
   "toc_window_display": false,
   "widenNotebook": false
  }
 },
 "nbformat": 4,
 "nbformat_minor": 1
}
